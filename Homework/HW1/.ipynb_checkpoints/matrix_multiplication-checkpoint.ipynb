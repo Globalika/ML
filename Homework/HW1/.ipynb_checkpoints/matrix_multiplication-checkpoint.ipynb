{
 "cells": [
  {
   "cell_type": "code",
   "execution_count": 82,
   "id": "2173a267-cc9c-4b47-8563-b2dea39e0bc2",
   "metadata": {},
   "outputs": [],
   "source": [
    "import random\n",
    "import time\n",
    "import numpy as np"
   ]
  },
  {
   "cell_type": "code",
   "execution_count": 83,
   "id": "c83b0b25-76ba-455b-a2ba-929881c67e54",
   "metadata": {},
   "outputs": [],
   "source": [
    "def timer(func, *args, **kwargs):\n",
    "    def wrapper(*args, **kwargs):\n",
    "        before = time.perf_counter()\n",
    "        response = func(*args)\n",
    "        after = time.perf_counter()\n",
    "        print(f\"Function has been running for {after - before} seconds.\")\n",
    "        return response, after - before\n",
    "    return wrapper"
   ]
  },
  {
   "cell_type": "code",
   "execution_count": 84,
   "id": "9bd81e15-86f1-4103-befa-734b66f942b1",
   "metadata": {},
   "outputs": [],
   "source": [
    "@timer\n",
    "def multiply_matrix(A, B):\n",
    "    n = len(A)\n",
    "    m = len(B)\n",
    "    B_Transformed = [[B[i][j] for i in range(m)] for j in range(n)]\n",
    "    M = [[vector_scalar(row, column) for column in B_Transformed] for row in A]\n",
    "    return M"
   ]
  },
  {
   "cell_type": "code",
   "execution_count": 85,
   "id": "3e984fbb-3473-43c4-b20f-7b5b83a372ed",
   "metadata": {},
   "outputs": [],
   "source": [
    "def vector_scalar(a, b):\n",
    "    S = 0\n",
    "    for el1, el2 in zip(a, b):\n",
    "        S += el1 * el2\n",
    "    return S"
   ]
  },
  {
   "cell_type": "code",
   "execution_count": 86,
   "id": "95e57d64-f667-42f3-89d8-a67273f6abf4",
   "metadata": {},
   "outputs": [],
   "source": [
    "@timer\n",
    "def multiply_matrix_np(A, B):\n",
    "    A = np.array(A)\n",
    "    B = np.array(B)\n",
    "    M = A.dot(B)\n",
    "    return M"
   ]
  },
  {
   "cell_type": "code",
   "execution_count": 87,
   "id": "15fb128e-ad2f-4fcf-9f4b-43a2aaf99c10",
   "metadata": {},
   "outputs": [
    {
     "name": "stdout",
     "output_type": "stream",
     "text": [
      "Function has been running for 0.004144900000028429 seconds.\n",
      "Function has been running for 0.15867049999997107 seconds.\n",
      "Difference: 0.15452559999994264.\n"
     ]
    }
   ],
   "source": [
    "n = 100\n",
    "m = 100\n",
    "A = [[random.random() for i in range(m)] for i in range(n)]\n",
    "B = [[random.random() for i in range(m)] for i in range(n)]\n",
    "M_np, time_np = multiply_matrix_np(A, B)\n",
    "M, time = multiply_matrix(A, B)\n",
    "print(\"Difference: {}.\".format(time-time_np))"
   ]
  },
  {
   "cell_type": "code",
   "execution_count": null,
   "id": "7ae238d5-97c7-4c5a-b4dd-2857db107868",
   "metadata": {},
   "outputs": [],
   "source": []
  },
  {
   "cell_type": "code",
   "execution_count": null,
   "id": "311f9aba-8095-4c3c-89c6-edb99bda8e19",
   "metadata": {},
   "outputs": [],
   "source": []
  },
  {
   "cell_type": "code",
   "execution_count": null,
   "id": "13ef5fb7-6d37-4074-ba8f-57ca6426a64f",
   "metadata": {},
   "outputs": [],
   "source": []
  },
  {
   "cell_type": "code",
   "execution_count": null,
   "id": "179a6ae4-d190-4c1c-b2a2-2c7da301ee8f",
   "metadata": {},
   "outputs": [],
   "source": []
  }
 ],
 "metadata": {
  "kernelspec": {
   "display_name": "Python 3 (ipykernel)",
   "language": "python",
   "name": "python3"
  },
  "language_info": {
   "codemirror_mode": {
    "name": "ipython",
    "version": 3
   },
   "file_extension": ".py",
   "mimetype": "text/x-python",
   "name": "python",
   "nbconvert_exporter": "python",
   "pygments_lexer": "ipython3",
   "version": "3.9.7"
  }
 },
 "nbformat": 4,
 "nbformat_minor": 5
}
